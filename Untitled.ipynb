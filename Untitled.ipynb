{
 "cells": [
  {
   "cell_type": "code",
   "execution_count": 1,
   "metadata": {},
   "outputs": [],
   "source": [
    "from datasets.bird_dataset import BirdDataset\n",
    "from torch.utils.data import DataLoader\n",
    "from torchvision.models import alexnet\n",
    "import torch\n",
    "import matplotlib.pyplot as plt\n",
    "import numpy as np\n",
    "import matplotlib.pyplot as plt"
   ]
  },
  {
   "cell_type": "code",
   "execution_count": 2,
   "metadata": {},
   "outputs": [],
   "source": [
    "train_dataset = BirdDataset(csv_path=\"data/bird_train.csv\", root_dir=\"data/images\")\n",
    "test_dataset = BirdDataset(csv_path=\"data/bird_test.csv\", root_dir=\"data/images\")\n",
    "val_dataset = BirdDataset(csv_path=\"data/bird_val.csv\", root_dir=\"data/images\")\n",
    "\n",
    "train = DataLoader(train_dataset, batch_size=4)\n",
    "test = DataLoader(test_dataset, batch_size=4)\n",
    "val = DataLoader(val_dataset, batch_size=4)\n",
    "\n",
    "data_loaders = {\"train\": train, \"val\": val}\n",
    "data_lengths = {\"train\": len(train_dataset), \"val\": len(val_dataset)}"
   ]
  },
  {
   "cell_type": "code",
   "execution_count": 3,
   "metadata": {},
   "outputs": [
    {
     "name": "stdout",
     "output_type": "stream",
     "text": [
      "Adjusting learning rate of group 0 to 1.0000e-04.\n"
     ]
    }
   ],
   "source": []
  },
  {
   "cell_type": "code",
   "execution_count": 4,
   "metadata": {},
   "outputs": [
    {
     "name": "stdout",
     "output_type": "stream",
     "text": [
      "Epoch 0/30\n",
      "----------\n",
      "Adjusting learning rate of group 0 to 1.0000e-04.\n",
      "train Loss: 0.2283\n",
      "val Loss: 0.1060\n",
      "Epoch 1/30\n",
      "----------\n",
      "Adjusting learning rate of group 0 to 1.0000e-04.\n",
      "train Loss: 0.0963\n",
      "val Loss: 0.0779\n",
      "Epoch 2/30\n",
      "----------\n",
      "Adjusting learning rate of group 0 to 1.0000e-04.\n",
      "train Loss: 0.0746\n",
      "val Loss: 0.0642\n",
      "Epoch 3/30\n",
      "----------\n",
      "Adjusting learning rate of group 0 to 1.0000e-04.\n",
      "train Loss: 0.0616\n",
      "val Loss: 0.0612\n",
      "Epoch 4/30\n",
      "----------\n",
      "Adjusting learning rate of group 0 to 1.0000e-04.\n",
      "train Loss: 0.0507\n",
      "val Loss: 0.0556\n",
      "Epoch 5/30\n",
      "----------\n",
      "Adjusting learning rate of group 0 to 1.0000e-04.\n",
      "train Loss: 0.0487\n",
      "val Loss: 0.0544\n",
      "Epoch 6/30\n",
      "----------\n",
      "Adjusting learning rate of group 0 to 1.0000e-05.\n",
      "train Loss: 0.0435\n",
      "val Loss: 0.0561\n",
      "Epoch 7/30\n",
      "----------\n",
      "Adjusting learning rate of group 0 to 1.0000e-05.\n",
      "train Loss: 0.0344\n",
      "val Loss: 0.0543\n",
      "Epoch 8/30\n",
      "----------\n",
      "Adjusting learning rate of group 0 to 1.0000e-05.\n",
      "train Loss: 0.0333\n",
      "val Loss: 0.0541\n",
      "Epoch 9/30\n",
      "----------\n",
      "Adjusting learning rate of group 0 to 1.0000e-05.\n",
      "train Loss: 0.0346\n",
      "val Loss: 0.0537\n",
      "Epoch 10/30\n",
      "----------\n",
      "Adjusting learning rate of group 0 to 1.0000e-05.\n",
      "train Loss: 0.0322\n",
      "val Loss: 0.0536\n",
      "Epoch 11/30\n",
      "----------\n",
      "Adjusting learning rate of group 0 to 1.0000e-05.\n",
      "train Loss: 0.0330\n",
      "val Loss: 0.0529\n",
      "Epoch 12/30\n",
      "----------\n",
      "Adjusting learning rate of group 0 to 1.0000e-05.\n",
      "train Loss: 0.0337\n",
      "val Loss: 0.0525\n",
      "Epoch 13/30\n",
      "----------\n",
      "Adjusting learning rate of group 0 to 1.0000e-06.\n",
      "train Loss: 0.0314\n",
      "val Loss: 0.0522\n",
      "Epoch 14/30\n",
      "----------\n",
      "Adjusting learning rate of group 0 to 1.0000e-06.\n",
      "train Loss: 0.0318\n",
      "val Loss: 0.0522\n",
      "Epoch 15/30\n",
      "----------\n",
      "Adjusting learning rate of group 0 to 1.0000e-06.\n",
      "train Loss: 0.0300\n",
      "val Loss: 0.0522\n",
      "Epoch 16/30\n",
      "----------\n",
      "Adjusting learning rate of group 0 to 1.0000e-06.\n",
      "train Loss: 0.0321\n",
      "val Loss: 0.0523\n",
      "Epoch 17/30\n",
      "----------\n",
      "Adjusting learning rate of group 0 to 1.0000e-06.\n",
      "train Loss: 0.0306\n",
      "val Loss: 0.0524\n",
      "Epoch 18/30\n",
      "----------\n",
      "Adjusting learning rate of group 0 to 1.0000e-06.\n",
      "train Loss: 0.0305\n",
      "val Loss: 0.0524\n",
      "Epoch 19/30\n",
      "----------\n",
      "Adjusting learning rate of group 0 to 1.0000e-06.\n",
      "train Loss: 0.0296\n",
      "val Loss: 0.0524\n",
      "Epoch 20/30\n",
      "----------\n",
      "Adjusting learning rate of group 0 to 1.0000e-07.\n",
      "train Loss: 0.0292\n",
      "val Loss: 0.0523\n",
      "Epoch 21/30\n",
      "----------\n",
      "Adjusting learning rate of group 0 to 1.0000e-07.\n",
      "train Loss: 0.0303\n",
      "val Loss: 0.0523\n",
      "Epoch 22/30\n",
      "----------\n",
      "Adjusting learning rate of group 0 to 1.0000e-07.\n",
      "train Loss: 0.0306\n",
      "val Loss: 0.0523\n",
      "Epoch 23/30\n",
      "----------\n",
      "Adjusting learning rate of group 0 to 1.0000e-07.\n",
      "train Loss: 0.0289\n",
      "val Loss: 0.0523\n",
      "Epoch 24/30\n",
      "----------\n",
      "Adjusting learning rate of group 0 to 1.0000e-07.\n",
      "train Loss: 0.0325\n",
      "val Loss: 0.0524\n",
      "Epoch 25/30\n",
      "----------\n",
      "Adjusting learning rate of group 0 to 1.0000e-07.\n",
      "train Loss: 0.0306\n",
      "val Loss: 0.0524\n",
      "Epoch 26/30\n",
      "----------\n",
      "Adjusting learning rate of group 0 to 1.0000e-07.\n",
      "train Loss: 0.0305\n",
      "val Loss: 0.0524\n",
      "Epoch 27/30\n",
      "----------\n",
      "Adjusting learning rate of group 0 to 1.0000e-08.\n",
      "train Loss: 0.0288\n",
      "val Loss: 0.0524\n",
      "Epoch 28/30\n",
      "----------\n",
      "Adjusting learning rate of group 0 to 1.0000e-08.\n",
      "train Loss: 0.0299\n",
      "val Loss: 0.0524\n",
      "Epoch 29/30\n",
      "----------\n",
      "Adjusting learning rate of group 0 to 1.0000e-08.\n",
      "train Loss: 0.0286\n",
      "val Loss: 0.0524\n",
      "Finished Training\n"
     ]
    }
   ],
   "source": [
    "# Train\n",
    "best_model = None\n",
    "min_val_loss = np.inf\n",
    "for epoch in range(n_epochs):\n",
    "    print(f\"Epoch {epoch}/{n_epochs}\")\n",
    "    print(\"-\" * 10)\n",
    "    for phase in [\"train\", \"val\"]:\n",
    "        if phase == \"train\":\n",
    "            #optimizer = scheduler(optimizer, epoch)\n",
    "            model.train(True) # set model tp training mode\n",
    "        else:\n",
    "            model.train(False) # Set model to evaluate mode\n",
    "        running_loss = 0\n",
    "        for batch in data_loaders[phase]:\n",
    "            # Get the input\n",
    "            inputs, labels = batch\n",
    "            # Zero the param gradients\n",
    "            optimizer.zero_grad()\n",
    "            # Get output\n",
    "            outputs = model(inputs)\n",
    "            loss = loss_func(outputs, labels)\n",
    "            \n",
    "            # backward + optimize only if in training phase\n",
    "            if phase == 'train':\n",
    "                loss.backward()\n",
    "                # update the weights\n",
    "                optimizer.step()\n",
    "            # print statistics\n",
    "            running_loss += loss.item()\n",
    "        # update scheduler\n",
    "        if phase == \"train\":\n",
    "            scheduler.step()\n",
    "        epoch_loss = running_loss / data_lengths[phase]\n",
    "        # Saves the best model\n",
    "        if (phase == \"val\") and epoch_loss < np.inf:\n",
    "            best_model = model\n",
    "        print('{} Loss: {:.4f}'.format(phase, epoch_loss))\n",
    "        losses[phase].append(epoch_loss)\n",
    "print(\"Finished Training\")"
   ]
  },
  {
   "cell_type": "code",
   "execution_count": 10,
   "metadata": {},
   "outputs": [],
   "source": [
    "torch.save(best_model, \"alex_bird_classifier\")"
   ]
  },
  {
   "cell_type": "code",
   "execution_count": 5,
   "metadata": {
    "scrolled": true
   },
   "outputs": [
    {
     "data": {
      "text/plain": [
       "[<matplotlib.lines.Line2D at 0x7f40ea514550>]"
      ]
     },
     "execution_count": 5,
     "metadata": {},
     "output_type": "execute_result"
    },
    {
     "data": {
      "image/png": "[encoded data removed]",
      "text/plain": [
       "<Figure size 432x288 with 1 Axes>"
      ]
     },
     "metadata": {
      "needs_background": "light"
     },
     "output_type": "display_data"
    }
   ],
   "source": [
    "plt.plot(np.arange(30), losses[\"train\"])\n",
    "plt.plot(np.arange(30), losses[\"val\"])"
   ]
  },
  {
   "cell_type": "code",
   "execution_count": 6,
   "metadata": {},
   "outputs": [],
   "source": [
    "num_correct = 0\n",
    "with torch.no_grad():\n",
    "    for data, labels in test:\n",
    "        predictions = best_model(data)\n",
    "        num_correct += (predictions.argmax(axis=1) == labels).sum()"
   ]
  },
  {
   "cell_type": "code",
   "execution_count": 7,
   "metadata": {},
   "outputs": [
    {
     "data": {
      "text/plain": [
       "tensor(0.9041)"
      ]
     },
     "execution_count": 7,
     "metadata": {},
     "output_type": "execute_result"
    }
   ],
   "source": [
    "num_correct / len(test_dataset)"
   ]
  },
  {
   "cell_type": "code",
   "execution_count": 8,
   "metadata": {},
   "outputs": [
    {
     "data": {
      "text/plain": [
       "365"
      ]
     },
     "execution_count": 8,
     "metadata": {},
     "output_type": "execute_result"
    }
   ],
   "source": [
    "len(test_dataset)"
   ]
  },
  {
   "cell_type": "code",
   "execution_count": 9,
   "metadata": {},
   "outputs": [
    {
     "data": {
      "text/plain": [
       "tensor(330)"
      ]
     },
     "execution_count": 9,
     "metadata": {},
     "output_type": "execute_result"
    }
   ],
   "source": [
    "num_correct"
   ]
  },
  {
   "cell_type": "code",
   "execution_count": null,
   "metadata": {},
   "outputs": [],
   "source": []
  }
 ],
 "metadata": {
  "kernelspec": {
   "display_name": "Python 3",
   "language": "python",
   "name": "python3"
  },
  "language_info": {
   "codemirror_mode": {
    "name": "ipython",
    "version": 3
   },
   "file_extension": ".py",
   "mimetype": "text/x-python",
   "name": "python",
   "nbconvert_exporter": "python",
   "pygments_lexer": "ipython3",
   "version": "3.8.5"
  }
 },
 "nbformat": 4,
 "nbformat_minor": 4
}
